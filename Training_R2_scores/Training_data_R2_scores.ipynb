{
 "cells": [
  {
   "cell_type": "code",
   "execution_count": 1,
   "id": "962c30f3",
   "metadata": {},
   "outputs": [],
   "source": [
    "import numpy as np\n",
    "import pandas as pd\n",
    "import matplotlib.pyplot as plt \n",
    "\n",
    "import tensorflow as tf\n",
    "from tensorflow.keras.models import Model\n",
    "from tensorflow.keras.models import Sequential\n",
    "from tensorflow.keras.layers import Dense, Dropout\n",
    "from tensorflow.keras.layers import LeakyReLU"
   ]
  },
  {
   "cell_type": "code",
   "execution_count": 2,
   "id": "75d6e126",
   "metadata": {},
   "outputs": [
    {
     "data": {
      "text/html": [
       "<div>\n",
       "<style scoped>\n",
       "    .dataframe tbody tr th:only-of-type {\n",
       "        vertical-align: middle;\n",
       "    }\n",
       "\n",
       "    .dataframe tbody tr th {\n",
       "        vertical-align: top;\n",
       "    }\n",
       "\n",
       "    .dataframe thead th {\n",
       "        text-align: right;\n",
       "    }\n",
       "</style>\n",
       "<table border=\"1\" class=\"dataframe\">\n",
       "  <thead>\n",
       "    <tr style=\"text-align: right;\">\n",
       "      <th></th>\n",
       "      <th>Unnamed: 0</th>\n",
       "      <th>phi</th>\n",
       "      <th>T [K]</th>\n",
       "    </tr>\n",
       "  </thead>\n",
       "  <tbody>\n",
       "    <tr>\n",
       "      <th>0</th>\n",
       "      <td>0</td>\n",
       "      <td>1.049164</td>\n",
       "      <td>1203.997776</td>\n",
       "    </tr>\n",
       "    <tr>\n",
       "      <th>1</th>\n",
       "      <td>1</td>\n",
       "      <td>0.943913</td>\n",
       "      <td>1102.764687</td>\n",
       "    </tr>\n",
       "    <tr>\n",
       "      <th>2</th>\n",
       "      <td>2</td>\n",
       "      <td>0.958025</td>\n",
       "      <td>1104.433889</td>\n",
       "    </tr>\n",
       "    <tr>\n",
       "      <th>3</th>\n",
       "      <td>3</td>\n",
       "      <td>0.945305</td>\n",
       "      <td>1139.583729</td>\n",
       "    </tr>\n",
       "    <tr>\n",
       "      <th>4</th>\n",
       "      <td>4</td>\n",
       "      <td>1.130658</td>\n",
       "      <td>1198.310346</td>\n",
       "    </tr>\n",
       "    <tr>\n",
       "      <th>...</th>\n",
       "      <td>...</td>\n",
       "      <td>...</td>\n",
       "      <td>...</td>\n",
       "    </tr>\n",
       "    <tr>\n",
       "      <th>95</th>\n",
       "      <td>95</td>\n",
       "      <td>1.032354</td>\n",
       "      <td>1165.841305</td>\n",
       "    </tr>\n",
       "    <tr>\n",
       "      <th>96</th>\n",
       "      <td>96</td>\n",
       "      <td>1.034471</td>\n",
       "      <td>1112.790878</td>\n",
       "    </tr>\n",
       "    <tr>\n",
       "      <th>97</th>\n",
       "      <td>97</td>\n",
       "      <td>1.082924</td>\n",
       "      <td>1118.270272</td>\n",
       "    </tr>\n",
       "    <tr>\n",
       "      <th>98</th>\n",
       "      <td>98</td>\n",
       "      <td>0.929695</td>\n",
       "      <td>1148.379224</td>\n",
       "    </tr>\n",
       "    <tr>\n",
       "      <th>99</th>\n",
       "      <td>99</td>\n",
       "      <td>0.921789</td>\n",
       "      <td>1185.580581</td>\n",
       "    </tr>\n",
       "  </tbody>\n",
       "</table>\n",
       "<p>100 rows × 3 columns</p>\n",
       "</div>"
      ],
      "text/plain": [
       "    Unnamed: 0       phi        T [K]\n",
       "0            0  1.049164  1203.997776\n",
       "1            1  0.943913  1102.764687\n",
       "2            2  0.958025  1104.433889\n",
       "3            3  0.945305  1139.583729\n",
       "4            4  1.130658  1198.310346\n",
       "..         ...       ...          ...\n",
       "95          95  1.032354  1165.841305\n",
       "96          96  1.034471  1112.790878\n",
       "97          97  1.082924  1118.270272\n",
       "98          98  0.929695  1148.379224\n",
       "99          99  0.921789  1185.580581\n",
       "\n",
       "[100 rows x 3 columns]"
      ]
     },
     "execution_count": 2,
     "metadata": {},
     "output_type": "execute_result"
    }
   ],
   "source": [
    "Inputs=pd.read_csv('Phi_T_sampling_uniform.csv')\n",
    "Inputs"
   ]
  },
  {
   "cell_type": "code",
   "execution_count": 7,
   "id": "21d9125e",
   "metadata": {},
   "outputs": [],
   "source": [
    "Ts=Inputs.loc[:,'T [K]']\n",
    "phis=Inputs.loc[:,'phi']"
   ]
  },
  {
   "cell_type": "code",
   "execution_count": 15,
   "id": "4a57c902",
   "metadata": {},
   "outputs": [],
   "source": [
    "def hydrogen_data_clean_shift_sandiego_cantera(cantera_species,cantera_sources,maximum_values):\n",
    "    cantera_sources=cantera_sources.add_suffix('w')\n",
    "    cantera_sources=cantera_sources.iloc[:,1:] #for taking out the timestep as data \n",
    "    \n",
    "    cantera_time=cantera_species.iloc[:,1]\n",
    "    cantera_temperature=cantera_species.iloc[:,2]\n",
    "    cantera_pressure=cantera_species.iloc[:,3]\n",
    "    \n",
    "    cantera_species_fractions=cantera_species.iloc[:,4:12]\n",
    "    \n",
    "    n_columns_mass_fraction=np.shape(cantera_species_fractions)[1]\n",
    "    \n",
    "    cantera_sources=cantera_sources.loc[:,(cantera_sources!=0).any(axis=0)]\n",
    "    cantera_sources=cantera_sources.loc[:, (cantera_sources != cantera_sources.iloc[0]).any()]\n",
    "    \n",
    "    n_columns_source=np.shape(cantera_sources)[1]\n",
    "    \n",
    "    cantera_data=pd.concat([cantera_time, cantera_temperature,cantera_species_fractions,cantera_sources],axis=1)\n",
    "\n",
    "    maximum_values=maximum_values.iloc[0,1:]\n",
    "    maximum_values=maximum_values.to_numpy()\n",
    "    \n",
    "    iterations=np.shape(cantera_data)[1]\n",
    "    \n",
    "    #cantera_data.divide(maximum_values)\n",
    "    for j in range(iterations):\n",
    "        cantera_data.iloc[:,j]=cantera_data.iloc[:,j]/(maximum_values[j])\n",
    "    \n",
    "    cantera_data_shift=cantera_data.loc[1:,:]\n",
    "    cantera_data_shift=cantera_data_shift.add_suffix('shift')\n",
    "    \n",
    "    cantera_data=cantera_data.reset_index()\n",
    "    cantera_data_shift=cantera_data_shift.reset_index()\n",
    "    \n",
    "    cantera_data=cantera_data.iloc[:,1:]\n",
    "    cantera_data_shift=cantera_data_shift.iloc[:,1:]\n",
    "\n",
    "    cantera_data=cantera_data.iloc[0:(np.shape(cantera_data_shift)[0]),:]\n",
    "    \n",
    "    data_all=pd.concat([cantera_data, cantera_data_shift], axis=1)\n",
    "\n",
    "    columns=data_all.columns.to_list()\n",
    "    \n",
    "    return data_all, n_columns_source, n_columns_mass_fraction, columns"
   ]
  },
  {
   "cell_type": "code",
   "execution_count": 8,
   "id": "ebc0c919",
   "metadata": {},
   "outputs": [],
   "source": [
    "name_11='State_space_cte_pressure_T' \n",
    "name_12='_phi_'\n",
    "name_21='Reaction_rates_cte_pressure_T'\n",
    "name_22='_phi_'\n",
    "\n",
    "end='.csv'\n",
    "\n",
    "model_name1='k_fold_best_model_PCA_test'"
   ]
  },
  {
   "cell_type": "code",
   "execution_count": 9,
   "id": "e35302e8",
   "metadata": {},
   "outputs": [],
   "source": [
    "TAE_model_name='k_fold_best_model_test1'"
   ]
  },
  {
   "cell_type": "code",
   "execution_count": 12,
   "id": "c6353df7",
   "metadata": {},
   "outputs": [
    {
     "name": "stdout",
     "output_type": "stream",
     "text": [
      "(1, 100)\n"
     ]
    }
   ],
   "source": [
    "TAE_all_scores=np.zeros((1,np.shape(Inputs)[0]))\n",
    "print(np.shape(TAE_all_scores))\n"
   ]
  },
  {
   "cell_type": "code",
   "execution_count": 27,
   "id": "32eff6f3",
   "metadata": {},
   "outputs": [],
   "source": [
    "n_ignition_cases=np.shape(Inputs)[0]\n",
    "\n",
    "for j in range(n_ignition_cases):\n",
    "    \n",
    "    cantera_species=pd.read_csv(name_11+str(Ts[j])+name_12+str(phis[j])+end)\n",
    "    cantera_species=pd.DataFrame(cantera_species)\n",
    "    \n",
    "    cantera_sources=pd.read_csv(name_21+str(Ts[j])+name_22+str(phis[j])+end)\n",
    "    cantera_sources=pd.DataFrame(cantera_sources)\n",
    "    \n",
    "    maximum_values=pd.read_csv('maximum_values_Phi_T_Sampling.csv')\n",
    "    maximum_values=pd.DataFrame(maximum_values)\n",
    "    \n",
    "    dataset, n_columns_source, n_columns_mass_fraction, columns=hydrogen_data_clean_shift_sandiego_cantera(cantera_species,cantera_sources,maximum_values)\n",
    "    \n",
    "    Autoencoder = tf.keras.models.load_model(TAE_model_name, compile=False)\n",
    "    results=Autoencoder.decoder(Autoencoder.lat_activation(Autoencoder.encoder(dataset.iloc[:,1:2+n_columns_mass_fraction].to_numpy()))).numpy()\n",
    "    \n",
    "    scores=np.zeros((1,1+n_columns_mass_fraction))\n",
    "    \n",
    "    model_outputs=pd.DataFrame(results, columns=columns[1:2+n_columns_mass_fraction])\n",
    "    \n",
    "    from sklearn.metrics import r2_score\n",
    "    for k in range(1+n_columns_mass_fraction):\n",
    "        scores[0,k]=r2_score(dataset.iloc[:,k+1],model_outputs.iloc[:,k])\n",
    "    TAE_all_scores[0,j]=np.mean(scores[:])"
   ]
  },
  {
   "cell_type": "code",
   "execution_count": 33,
   "id": "5cc97773",
   "metadata": {},
   "outputs": [
    {
     "data": {
      "image/png": "[encoded data removed]",
      "text/plain": [
       "<Figure size 864x576 with 1 Axes>"
      ]
     },
     "metadata": {
      "needs_background": "light"
     },
     "output_type": "display_data"
    }
   ],
   "source": [
    "plt.figure(figsize=(12, 8))\n",
    "values, bins, bars = plt.hist(np.transpose(TAE_all_scores), edgecolor='white',color='0.50')\n",
    "plt.xlabel(r'$R^2$-score', fontsize = 18)\n",
    "plt.ylabel(\" of Ignition Cases\", fontsize = 18)\n",
    "plt.bar_label(bars, fontsize=18, color='k')\n",
    "plt.yticks(fontsize=18)\n",
    "plt.xticks(fontsize=18)\n",
    "plt.margins(x=0.01, y=0.1)\n",
    "plt.savefig('R2_scores_training_data.jpg', dpi=400)\n",
    "plt.show()"
   ]
  },
  {
   "cell_type": "markdown",
   "id": "dcbe7297",
   "metadata": {},
   "source": [
    "mean_R2=np.mean(TAE_all_scores)\n",
    "std_deviation_R2=np.std(TAE_all_scores)"
   ]
  },
  {
   "cell_type": "code",
   "execution_count": 31,
   "id": "fb6f5781",
   "metadata": {},
   "outputs": [
    {
     "name": "stdout",
     "output_type": "stream",
     "text": [
      "mean 0.9916047424732362\n",
      "std 0.004614575151111313\n"
     ]
    }
   ],
   "source": [
    "print('mean',mean_R2)\n",
    "print('std',std_deviation_R2)"
   ]
  },
  {
   "cell_type": "code",
   "execution_count": null,
   "id": "d0eab0ef",
   "metadata": {},
   "outputs": [],
   "source": []
  }
 ],
 "metadata": {
  "kernelspec": {
   "display_name": "Python 3 (ipykernel)",
   "language": "python",
   "name": "python3"
  },
  "language_info": {
   "codemirror_mode": {
    "name": "ipython",
    "version": 3
   },
   "file_extension": ".py",
   "mimetype": "text/x-python",
   "name": "python",
   "nbconvert_exporter": "python",
   "pygments_lexer": "ipython3",
   "version": "3.9.10"
  }
 },
 "nbformat": 4,
 "nbformat_minor": 5
}
