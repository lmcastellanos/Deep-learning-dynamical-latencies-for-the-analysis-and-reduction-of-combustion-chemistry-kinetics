{
 "cells": [
  {
   "cell_type": "code",
   "execution_count": 1,
   "id": "2c852757",
   "metadata": {},
   "outputs": [],
   "source": [
    "import numpy as np\n",
    "import pandas as pd\n",
    "import tensorflow as tf\n",
    "import matplotlib.pyplot as plt \n",
    "\n",
    "from tensorflow.keras.models import Model\n",
    "from tensorflow.keras.models import Sequential\n",
    "from tensorflow.keras.layers import Dense, Dropout\n",
    "from tensorflow.keras.layers import LeakyReLU"
   ]
  },
  {
   "cell_type": "code",
   "execution_count": 2,
   "id": "83a8c694",
   "metadata": {},
   "outputs": [],
   "source": [
    "phis=[0.93,1.0,1.10] \n",
    "Ts=[1160,1200,1130]\n",
    "\n",
    "name_11='State_space_cte_pressure_T' \n",
    "name_12='_phi_'\n",
    "name_21='Reaction_rates_cte_pressure_T'\n",
    "name_22='_phi_'\n",
    "\n",
    "end='.csv'\n",
    "\n",
    "model_name1='k_fold_best_model_test'"
   ]
  },
  {
   "cell_type": "code",
   "execution_count": 3,
   "id": "c45e5fd8",
   "metadata": {},
   "outputs": [],
   "source": [
    "def hydrogen_data_clean_shift_sandiego_cantera(cantera_species,cantera_sources,maximum_values):\n",
    "    cantera_sources=cantera_sources.add_suffix('w')\n",
    "    cantera_sources=cantera_sources.iloc[:,1:] #for taking out the timestep as data \n",
    "    \n",
    "    cantera_time=cantera_species.iloc[:,1]\n",
    "    cantera_temperature=cantera_species.iloc[:,2]\n",
    "    cantera_pressure=cantera_species.iloc[:,3]\n",
    "    \n",
    "    cantera_species_fractions=cantera_species.iloc[:,4:12]\n",
    "    \n",
    "    n_columns_mass_fraction=np.shape(cantera_species_fractions)[1]\n",
    "    \n",
    "    cantera_sources=cantera_sources.loc[:,(cantera_sources!=0).any(axis=0)]\n",
    "    cantera_sources=cantera_sources.loc[:, (cantera_sources != cantera_sources.iloc[0]).any()]\n",
    "    \n",
    "    n_columns_source=np.shape(cantera_sources)[1]\n",
    "    \n",
    "    cantera_data=pd.concat([cantera_time, cantera_temperature,cantera_species_fractions,cantera_sources],axis=1)\n",
    "\n",
    "    maximum_values=maximum_values.iloc[0,1:]\n",
    "    maximum_values=maximum_values.to_numpy()\n",
    "    \n",
    "    iterations=np.shape(cantera_data)[1]\n",
    "    \n",
    "    #cantera_data.divide(maximum_values)\n",
    "    for j in range(iterations):\n",
    "        cantera_data.iloc[:,j]=cantera_data.iloc[:,j]/(maximum_values[j])\n",
    "    \n",
    "    cantera_data_shift=cantera_data.loc[1:,:]\n",
    "    cantera_data_shift=cantera_data_shift.add_suffix('shift')\n",
    "    \n",
    "    cantera_data=cantera_data.reset_index()\n",
    "    cantera_data_shift=cantera_data_shift.reset_index()\n",
    "    \n",
    "    cantera_data=cantera_data.iloc[:,1:]\n",
    "    cantera_data_shift=cantera_data_shift.iloc[:,1:]\n",
    "\n",
    "    cantera_data=cantera_data.iloc[0:(np.shape(cantera_data_shift)[0]),:]\n",
    "    \n",
    "    data_all=pd.concat([cantera_data, cantera_data_shift], axis=1)\n",
    "\n",
    "    columns=data_all.columns.to_list()\n",
    "    \n",
    "    return data_all, n_columns_source, n_columns_mass_fraction, columns"
   ]
  },
  {
   "cell_type": "code",
   "execution_count": 4,
   "id": "4865eb46",
   "metadata": {},
   "outputs": [],
   "source": [
    "k1=0\n",
    "cantera_species=pd.read_csv(name_11+str(Ts[k1])+name_12+str(phis[k1])+end)\n",
    "cantera_species=pd.DataFrame(cantera_species)\n",
    "\n",
    "cantera_sources=pd.read_csv(name_21+str(Ts[k1])+name_22+str(phis[k1])+end)\n",
    "cantera_sources=pd.DataFrame(cantera_sources)\n",
    "\n",
    "maximum_values=pd.read_csv('maximum_values_Phi_T_Sampling.csv')\n",
    "maximum_values=pd.DataFrame(maximum_values)"
   ]
  },
  {
   "cell_type": "code",
   "execution_count": 5,
   "id": "ac17d235",
   "metadata": {},
   "outputs": [],
   "source": [
    "dataset, n_columns_source, n_columns_mass_fraction, columns=hydrogen_data_clean_shift_sandiego_cantera(cantera_species,cantera_sources,maximum_values)"
   ]
  },
  {
   "cell_type": "code",
   "execution_count": 6,
   "id": "02df13bf",
   "metadata": {},
   "outputs": [],
   "source": [
    "n_models=4\n",
    "all_scores=np.zeros((n_models,1+n_columns_mass_fraction))"
   ]
  },
  {
   "cell_type": "code",
   "execution_count": 7,
   "id": "874170fb",
   "metadata": {},
   "outputs": [],
   "source": [
    "for j in range(n_models):\n",
    "    model_name=model_name1+str(j+1)\n",
    "    Autoencoder = tf.keras.models.load_model(model_name, compile=False)\n",
    "    results=Autoencoder.decoder(Autoencoder.lat_activation(Autoencoder.encoder(dataset.iloc[:,1:2+n_columns_mass_fraction].to_numpy()))).numpy()\n",
    "   \n",
    "    model_outputs=pd.DataFrame(results, columns=columns[1:2+n_columns_mass_fraction])\n",
    "    \n",
    "    from sklearn.metrics import mean_absolute_error\n",
    "    for k in range(1+n_columns_mass_fraction):\n",
    "        all_scores[j,k]=mean_absolute_error(dataset.iloc[:,k+1],model_outputs.iloc[:,k])"
   ]
  },
  {
   "cell_type": "code",
   "execution_count": 8,
   "id": "e44941ac",
   "metadata": {},
   "outputs": [],
   "source": [
    "import seaborn as sns\n",
    "import matplotlib.pyplot as plt "
   ]
  },
  {
   "cell_type": "code",
   "execution_count": 9,
   "id": "404ad77f",
   "metadata": {},
   "outputs": [
    {
     "data": {
      "image/png": "[encoded data removed]",
      "text/plain": [
       "<Figure size 1728x576 with 4 Axes>"
      ]
     },
     "metadata": {
      "needs_background": "light"
     },
     "output_type": "display_data"
    }
   ],
   "source": [
    "fig, axn = plt.subplots(1, 3, sharex=True, sharey=True,figsize=(24,8))\n",
    "cbar_ax = fig.add_axes([.91, .3, .03, .4])\n",
    "\n",
    "for i in range(len(phis)):\n",
    "    cantera_species=pd.read_csv(name_11+str(Ts[i])+name_12+str(phis[i])+end)\n",
    "    cantera_species=pd.DataFrame(cantera_species)\n",
    "\n",
    "    cantera_sources=pd.read_csv(name_21+str(Ts[i])+name_22+str(phis[i])+end)\n",
    "    cantera_sources=pd.DataFrame(cantera_sources)\n",
    "\n",
    "    maximum_values=pd.read_csv('maximum_values_Phi_T_Sampling.csv')\n",
    "    maximum_values=pd.DataFrame(maximum_values)\n",
    "    \n",
    "    dataset, n_columns_source, n_columns_mass_fraction, columns=hydrogen_data_clean_shift_sandiego_cantera(cantera_species,cantera_sources,maximum_values)\n",
    "    \n",
    "    for j in range(n_models):\n",
    "        model_name=model_name1+str(j+1)\n",
    "        Autoencoder = tf.keras.models.load_model(model_name, compile=False)\n",
    "        results=Autoencoder.decoder(Autoencoder.lat_activation(Autoencoder.encoder(dataset.iloc[:,1:2+n_columns_mass_fraction].to_numpy()))).numpy()\n",
    "        \n",
    "        model_outputs=pd.DataFrame(results, columns=columns[1:2+n_columns_mass_fraction])\n",
    "        \n",
    "        from sklearn.metrics import mean_absolute_error\n",
    "        for k in range(1+n_columns_mass_fraction):\n",
    "            all_scores[j,k]=mean_absolute_error(dataset.iloc[:,k+1],model_outputs.iloc[:,k])\n",
    "        \n",
    "        df = pd.DataFrame(all_scores, index=[1,2,3,4],columns=columns[1:2+n_columns_mass_fraction])\n",
    "    \n",
    "    \n",
    "    for l, ax in enumerate(axn.flat):\n",
    "        sns.heatmap(df, ax=ax,cmap=\"viridis\",\n",
    "                cbar=l == 0,\n",
    "                vmin=0, vmax=0.04,\n",
    "                cbar_ax=None if l else cbar_ax)\n",
    "        plt.ylabel('MAE')\n",
    "        \n",
    "        #fig.tight_layout(rect=[0, 0, .9, 1])\n",
    "    plt.savefig('time_series_TAE_MAE.jpg',dpi=400)"
   ]
  },
  {
   "cell_type": "code",
   "execution_count": null,
   "id": "9b0bb69d",
   "metadata": {},
   "outputs": [],
   "source": []
  }
 ],
 "metadata": {
  "kernelspec": {
   "display_name": "Python 3 (ipykernel)",
   "language": "python",
   "name": "python3"
  },
  "language_info": {
   "codemirror_mode": {
    "name": "ipython",
    "version": 3
   },
   "file_extension": ".py",
   "mimetype": "text/x-python",
   "name": "python",
   "nbconvert_exporter": "python",
   "pygments_lexer": "ipython3",
   "version": "3.9.10"
  }
 },
 "nbformat": 4,
 "nbformat_minor": 5
}
